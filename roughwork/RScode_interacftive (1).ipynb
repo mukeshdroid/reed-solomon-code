{
 "cells": [
  {
   "cell_type": "code",
   "execution_count": 148,
   "id": "29074768",
   "metadata": {},
   "outputs": [],
   "source": [
    "#extended euclids algorithm\n",
    "def extended_euclides(a,b,quo=lambda a,b:a//b):\n",
    "    r0 = a; r1 = b\n",
    "    s0 = 1; s1 = 0\n",
    "    t0 = 0; t1 = 1\n",
    "\n",
    "    while r1 != 0:\n",
    "        q = quo(r0, r1)\n",
    "        r0, r1 = r1, r0 - q * r1\n",
    "        s0, s1 = s1, s0 - q * s1\n",
    "        t0, t1 = t1, t0 - q * t1\n",
    "\n",
    "    return r0, s0, t0\n",
    "\n",
    "def toBinary(a):\n",
    "    '''Converts a string to a string of binary values'''\n",
    "    tmp = [str(int(bin(ord(i))[2:])) for i in a]\n",
    "    b = \"\"\n",
    "    for i in tmp:\n",
    "        b = b + i\n",
    "    return b\n",
    "\n",
    "def tobincoeffs(a,n):\n",
    "    '''break the binary string passed into blocks of n length padding with zero'''\n",
    "    #compute the number of blocks\n",
    "    nb = int(len(a) / n) + 1\n",
    "    \n",
    "    #padding length needed\n",
    "    np= nb * n - len(a) \n",
    "    \n",
    "    a = a + np * '0'\n",
    "    \n",
    "    li = [a[i:i+n] for i in range(0,len(a),n)]\n",
    "    \n",
    "    return li\n",
    "\n",
    "\n",
    "def msgtorscoeff(msg):\n",
    "    '''change a messge to order of coefficients that will form the RS polynomials'''\n",
    "    binary = toBinary(msg)\n",
    "    coeffs = tobincoeffs(binary,4)\n",
    "    orders = [int(bString, 2) for bString in coeffs]\n",
    "    return orders\n",
    "\n",
    "def rscoefftomsg(coeff):\n",
    "    '''Converts a list of coefficents to ascii. reverse of msgtorscoeff'''\n",
    "    coeff = reversed(coeff)\n",
    "    F.<b> = GF(2)[]\n",
    "    S.<a> = GF( 2**4, modulus = b^4 + b^3 + 1)\n",
    "    li = list(S)\n",
    "    binstr = ''\n",
    "    for i in coeff:\n",
    "        indexi = li.index(i)\n",
    "#         print(indexi)\n",
    "        stri = '{0:04b}'.format(indexi)\n",
    "#         print(stri)\n",
    "        binstr = binstr + stri\n",
    "#         print(binstr)\n",
    "#     print(binstr)\n",
    "    #remove padding\n",
    "    nblocks = len(binstr) // 7\n",
    "    binstr = binstr[:7 * nblocks]\n",
    "    chrli = [binstr[i:i+7] for i in range(0,len(binstr),7)]\n",
    "#     print(chrli)\n",
    "    chrs = [chr(int(i,2)) for i in chrli]\n",
    "    return chrs\n",
    "    \n",
    "\n",
    "class rs:\n",
    "    \n",
    "    def __init__(self):\n",
    "        '''initialize a rs code with msg length 4'''\n",
    "#         self.F.<b> = GF(2)[]\n",
    "#         self.S.<a> = GF( 2**4, modulus = b^4 + b^3 + 1)\n",
    "#         self.R.<x> = PolynomialRing(S,'x')\n",
    "#         self.Syn.<z> = PolynomialRing(S,'z')\n",
    "    \n",
    "    def rs_encode(self,msg):\n",
    "        F.<b> = GF(2)[]\n",
    "        S.<a> = GF( 2**4, modulus = b^4 + b^3 + 1)\n",
    "        R.<x> = PolynomialRing(S,'x')\n",
    "        Syn.<z> = PolynomialRing(S,'z')\n",
    "        g = R([-a,1]) * R([-a^2,1]) * R([-a^3,1]) * R([-a^4,1]) * R([-a^5,1]) * R([-a^6,1])\n",
    "        # convert the message to polynomial\n",
    "        coeff = msgtorscoeff(msg)\n",
    "        b = R(list(reversed([a^i for i in coeff])))\n",
    "        print(\"message : {}\".format(b))\n",
    "        # generate the codeword\n",
    "        c = g * b\n",
    "        print(\"codeword: {}\".format(c))\n",
    "        return c\n",
    "\n",
    "    def rs_decode(self,codeword):\n",
    "        F.<b> = GF(2)[]\n",
    "        S.<a> = GF( 2**4, modulus = b^4 + b^3 + 1)\n",
    "        R.<x> = PolynomialRing(S,'x')\n",
    "        Syn.<z> = PolynomialRing(S,'z')\n",
    "        g = R([-a,1]) * R([-a^2,1]) * R([-a^3,1]) * R([-a^4,1]) * R([-a^5,1]) * R([-a^6,1])\n",
    "        r = R(codeword)\n",
    "        print(\"r : {}\".format(r))\n",
    "\n",
    "        s1 = r(a)\n",
    "        s2 = r(a^2)\n",
    "        s3 = r(a^3)\n",
    "        s4 = r(a^4)\n",
    "        s5 = r(a^5)\n",
    "        s6 = r(a^6)\n",
    "        \n",
    "        #if all syndromes are zero there are no errors\n",
    "        if (s1 == 0) and (s2 == 0) and (s3 == 0) and (s4 == 0) and (s5 == 0) and (s6 == 0):\n",
    "            return ''.join(rscoefftomsg((r // g).coefficients(sparse=False)))\n",
    "        print(\"{}|{}|{}|{}|{}|{}\".format(s1,s2,s3,s4,s5,s6))\n",
    "        Synpoly = s1 + s2 * z + s3 * z^2 + s4 * z^3 + s5 * z^4 + s6 * z^5\n",
    "        az = Syn([0,0,0,0,0,0,1])\n",
    "        gcdz , uz, vz = extended_euclides(az,Synpoly)\n",
    "        gcdz = gcdz\n",
    "        uz = uz \n",
    "        vz = vz\n",
    "        invroot_indices = []\n",
    "        for i in range(1,16):\n",
    "            if vz(a^i) == 0:\n",
    "                invroot_indices.append(i)\n",
    "        # these are the error positions\n",
    "        root_indices = {}\n",
    "        for i in invroot_indices:\n",
    "            root_indices[i] = len(list(S)) -1 -i\n",
    "        #get coefficients of the error position\n",
    "        vzdif = vz.diff()\n",
    "        error_coeff = {}\n",
    "        for i in invroot_indices:\n",
    "               error_coeff[root_indices[i]] = (gcdz(a^i) / vzdif(a^i))\n",
    "        li = [0 for i in range(0,16)]\n",
    "        for i in error_coeff:\n",
    "            li[i] = error_coeff[i]\n",
    "        error_poly = R(list(li))\n",
    "        print(\"error_poly : {}\".format(error_poly))\n",
    "        print(\"decoded_codeword : {}\".format(r - error_poly))\n",
    "        return ''.join(rscoefftomsg(((r - error_poly) // g).coefficients(sparse=False)))"
   ]
  },
  {
   "cell_type": "code",
   "execution_count": 149,
   "id": "24f03ac7",
   "metadata": {},
   "outputs": [
    {
     "name": "stdout",
     "output_type": "stream",
     "text": [
      "message : (a^2 + 1)*x^8 + a*x^7 + (a^2 + 1)*x^6 + (a^2 + a + 1)*x^5 + (a^3 + a^2 + a + 1)*x^4 + (a^3 + a^2 + a + 1)*x^3 + (a + 1)*x^2 + (a^2 + a)*x + a^3 + a^2\n",
      "codeword: (a^2 + 1)*x^14 + (a^3 + a^2 + 1)*x^13 + (a^2 + a)*x^12 + (a^2 + a + 1)*x^11 + (a^3 + 1)*x^10 + a^3*x^9 + x^8 + a*x^7 + a^2*x^6 + (a + 1)*x^5 + (a + 1)*x^4 + a^2*x^3 + a*x^2 + (a + 1)*x + a^3 + a + 1\n",
      "message : (a^2 + 1)*x^8 + a*x^7 + (a^2 + 1)*x^6 + (a^2 + a + 1)*x^5 + (a^3 + a^2 + a + 1)*x^4 + (a^3 + a^2 + a + 1)*x^3 + (a + 1)*x^2 + (a^2 + a)*x + a^3 + a^2\n",
      "codeword: (a^2 + 1)*x^14 + (a^3 + a^2 + 1)*x^13 + (a^2 + a)*x^12 + (a^2 + a + 1)*x^11 + (a^3 + 1)*x^10 + a^3*x^9 + x^8 + a*x^7 + a^2*x^6 + (a + 1)*x^5 + (a + 1)*x^4 + a^2*x^3 + a*x^2 + (a + 1)*x + a^3 + a + 1\n"
     ]
    },
    {
     "data": {
      "text/plain": [
       "[a^3 + a + 1,\n",
       " a + 1,\n",
       " a,\n",
       " a^2,\n",
       " a + 1,\n",
       " a + 1,\n",
       " a^2,\n",
       " a,\n",
       " 1,\n",
       " a^3,\n",
       " a^3 + 1,\n",
       " a^2 + a + 1,\n",
       " a^2 + a,\n",
       " a^3 + a^2 + 1,\n",
       " a^2 + 1]"
      ]
     },
     "execution_count": 149,
     "metadata": {},
     "output_type": "execute_result"
    }
   ],
   "source": [
    "rscode = rs()\n",
    "codeword = rscode.rs_encode('Hello')\n",
    "recieved = rscode.rs_encode('Hello').coefficients(sparse=False)\n",
    "recieved"
   ]
  },
  {
   "cell_type": "code",
   "execution_count": 152,
   "id": "7690c841",
   "metadata": {},
   "outputs": [
    {
     "data": {
      "text/plain": [
       "[a^3 + a + 1,\n",
       " a + 1,\n",
       " a,\n",
       " 1,\n",
       " 1,\n",
       " 1,\n",
       " a^2,\n",
       " a,\n",
       " 1,\n",
       " a^3,\n",
       " a^3 + 1,\n",
       " a^2 + a + 1,\n",
       " a^2 + a,\n",
       " a^3 + a^2 + 1,\n",
       " a^2 + 1]"
      ]
     },
     "execution_count": 152,
     "metadata": {},
     "output_type": "execute_result"
    }
   ],
   "source": [
    "recieved[3] = 1\n",
    "recieved[4] = 1\n",
    "recieved[5] = 1\n",
    "recieved"
   ]
  },
  {
   "cell_type": "code",
   "execution_count": 153,
   "id": "4299b3a3",
   "metadata": {},
   "outputs": [
    {
     "name": "stdout",
     "output_type": "stream",
     "text": [
      "r : (a^2 + 1)*x^14 + (a^3 + a^2 + 1)*x^13 + (a^2 + a)*x^12 + (a^2 + a + 1)*x^11 + (a^3 + 1)*x^10 + a^3*x^9 + x^8 + a*x^7 + a^2*x^6 + x^5 + x^4 + x^3 + a*x^2 + (a + 1)*x + a^3 + a + 1\n",
      "a^2 + a + 1|a^3 + 1|a^3 + a^2|a^2|a^2 + a + 1|a^3 + a + 1\n",
      "error_poly : (a + 1)*x\n",
      "decoded_codeword : (a^2 + 1)*x^14 + (a^3 + a^2 + 1)*x^13 + (a^2 + a)*x^12 + (a^2 + a + 1)*x^11 + (a^3 + 1)*x^10 + a^3*x^9 + x^8 + a*x^7 + a^2*x^6 + x^5 + x^4 + x^3 + a*x^2 + a^3 + a + 1\n"
     ]
    },
    {
     "data": {
      "text/plain": [
       "'Hello'"
      ]
     },
     "execution_count": 153,
     "metadata": {},
     "output_type": "execute_result"
    }
   ],
   "source": [
    "decoded =  rscode.rs_decode(recieved)\n",
    "decoded"
   ]
  },
  {
   "cell_type": "code",
   "execution_count": null,
   "id": "644fb15b",
   "metadata": {},
   "outputs": [],
   "source": []
  },
  {
   "cell_type": "code",
   "execution_count": null,
   "id": "a12b442a",
   "metadata": {},
   "outputs": [],
   "source": []
  },
  {
   "cell_type": "code",
   "execution_count": null,
   "id": "509dd60f",
   "metadata": {},
   "outputs": [],
   "source": []
  },
  {
   "cell_type": "code",
   "execution_count": null,
   "id": "7d9aaae8",
   "metadata": {},
   "outputs": [],
   "source": []
  }
 ],
 "metadata": {
  "kernelspec": {
   "display_name": "SageMath 10.1",
   "language": "sage",
   "name": "sagemath"
  },
  "language_info": {
   "codemirror_mode": {
    "name": "ipython",
    "version": 3
   },
   "file_extension": ".py",
   "mimetype": "text/x-python",
   "name": "python",
   "nbconvert_exporter": "python",
   "pygments_lexer": "ipython3",
   "version": "3.11.6"
  }
 },
 "nbformat": 4,
 "nbformat_minor": 5
}
