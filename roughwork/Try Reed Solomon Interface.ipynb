{
 "cells": [
  {
   "cell_type": "code",
   "execution_count": 7,
   "id": "961a4f99",
   "metadata": {},
   "outputs": [],
   "source": [
    "#imports\n",
    "import lib"
   ]
  },
  {
   "cell_type": "code",
   "execution_count": 8,
   "id": "62f37ddd",
   "metadata": {},
   "outputs": [],
   "source": [
    "#interface for Reed Solomon Code\n",
    "\n",
    "def rsencode():\n",
    "    pass\n",
    "\n",
    "\n",
    "\n",
    "def esdecode():\n",
    "    pass\n",
    "    "
   ]
  },
  {
   "cell_type": "code",
   "execution_count": 10,
   "id": "d5cff395",
   "metadata": {},
   "outputs": [
    {
     "data": {
      "text/plain": [
       "4359030"
      ]
     },
     "execution_count": 10,
     "metadata": {},
     "output_type": "execute_result"
    }
   ],
   "source": [
    "lib.string2num('HELLO')"
   ]
  },
  {
   "cell_type": "code",
   "execution_count": 13,
   "id": "23700da8",
   "metadata": {},
   "outputs": [
    {
     "name": "stdout",
     "output_type": "stream",
     "text": [
      "b'Hello World' \n",
      "\n",
      "0b1001000 0b1100101 0b1101100 0b1101100 0b1101111 0b100000 0b1010111 0b1101111 0b1110010 0b1101100 0b1100100 \n",
      "\n",
      "72 101 108 108 111 32 87 111 114 108 100 "
     ]
    }
   ],
   "source": [
    "string = \"Hello World\"\n",
    "\n",
    "# string with encoding 'utf-8'\n",
    "arr = bytes(string, 'utf-8')\n",
    "arr2 = bytes(string, 'ascii')\n",
    "\n",
    "print(arr,'\\n')\n",
    "\n",
    "# actual bytes in the the string\n",
    "for byte in arr:\n",
    "    print(bin(byte), end=' ')\n",
    "print(\"\\n\")\n",
    "for byte in arr2:\n",
    "    print(byte, end=' ')"
   ]
  },
  {
   "cell_type": "code",
   "execution_count": 12,
   "id": "2d795185",
   "metadata": {},
   "outputs": [],
   "source": [
    "bytes?"
   ]
  },
  {
   "cell_type": "code",
   "execution_count": 14,
   "id": "466ce173",
   "metadata": {},
   "outputs": [
    {
     "name": "stdout",
     "output_type": "stream",
     "text": [
      "''Hello world'' in binary is \n",
      "[1001000, 1100101, 1101100, 1101100, 1101111, 100000, 1110111, 1101111, 1110010, 1101100, 1100100]\n"
     ]
    }
   ],
   "source": [
    "import math\n",
    "\n",
    "\n",
    "def toBinary(a):\n",
    "  l,m=[],[]\n",
    "  for i in a:\n",
    "    l.append(ord(i))\n",
    "  for i in l:\n",
    "    m.append(int(bin(i)[2:]))\n",
    "  return m\n",
    "\n",
    "print(\"''Hello world'' in binary is \") \n",
    "print(toBinary(\"Hello world\"))"
   ]
  },
  {
   "cell_type": "code",
   "execution_count": 15,
   "id": "9a6d6def",
   "metadata": {},
   "outputs": [
    {
     "name": "stdout",
     "output_type": "stream",
     "text": [
      " \n",
      " ''[1001000, 1100101, 1101100, 1101100, 1101111,]'' in string is \n",
      "Hello\n"
     ]
    }
   ],
   "source": [
    "import math\n",
    "\n",
    "\n",
    "\n",
    "def toString(a):\n",
    "\n",
    "  l=[]\n",
    "\n",
    "  m=\"\"\n",
    "\n",
    "  for i in a:\n",
    "\n",
    "    b=0\n",
    "\n",
    "    c=0\n",
    "\n",
    "    k=int(math.log10(i))+1\n",
    "\n",
    "    for j in range(k):\n",
    "\n",
    "      b=((i%10)*(2**j))   \n",
    "\n",
    "      i=i//10\n",
    "\n",
    "      c=c+b\n",
    "\n",
    "    l.append(c)\n",
    "\n",
    "  for x in l:\n",
    "\n",
    "    m=m+chr(x)\n",
    "\n",
    "  return m\n",
    "\n",
    "\n",
    "\n",
    "print(\" \\n ''[1001000, 1100101, 1101100, 1101100, 1101111,]'' in string is \")\n",
    "\n",
    "print(toString([1001000, 1100101, 1101100, 1101100, 1101111,]))"
   ]
  },
  {
   "cell_type": "code",
   "execution_count": 16,
   "id": "0d125c7f",
   "metadata": {},
   "outputs": [
    {
     "data": {
      "text/plain": [
       "97"
      ]
     },
     "execution_count": 16,
     "metadata": {},
     "output_type": "execute_result"
    }
   ],
   "source": [
    "ord('a')"
   ]
  },
  {
   "cell_type": "code",
   "execution_count": 17,
   "id": "2fbd5303",
   "metadata": {},
   "outputs": [
    {
     "data": {
      "text/plain": [
       "'a'"
      ]
     },
     "execution_count": 17,
     "metadata": {},
     "output_type": "execute_result"
    }
   ],
   "source": [
    "chr(97)"
   ]
  },
  {
   "cell_type": "code",
   "execution_count": 19,
   "id": "4c2aad68",
   "metadata": {},
   "outputs": [
    {
     "name": "stdout",
     "output_type": "stream",
     "text": [
      "10\n"
     ]
    }
   ],
   "source": [
    "# initialize a binary string\n",
    "bString = \"1010\"\n",
    "\n",
    "# conversion\n",
    "value = int(bString, 2)\n",
    "\n",
    "# display the converted value\n",
    "print(value)"
   ]
  },
  {
   "cell_type": "code",
   "execution_count": 40,
   "id": "9c18a631",
   "metadata": {},
   "outputs": [],
   "source": [
    "def rscoefftomsg(coeff):\n",
    "    '''Converts a list of coefficents to ascii. reverse of msgtorscoeff'''\n",
    "    coeff = reversed(coeff)\n",
    "    F.<b> = GF(2)[]\n",
    "    S.<a> = GF( 2**4, modulus = b^4 + b^3 + 1)\n",
    "    li = list(S)\n",
    "    binstr = ''\n",
    "    for i in coeff:\n",
    "        indexi = li.index(i)\n",
    "        print(indexi)\n",
    "        stri = '{0:04b}'.format(indexi)\n",
    "#         print(stri)\n",
    "        binstr = binstr + stri\n",
    "#         print(binstr)\n",
    "    print(binstr)\n",
    "    #remove padding\n",
    "    nblocks = len(binstr) // 7\n",
    "    binstr = binstr[:7 * nblocks]\n",
    "    chrli = [binstr[i:i+7] for i in range(0,len(binstr),7)]\n",
    "    print(chrli)\n",
    "    chrs = [chr(int(i,2)) for i in chrli]\n",
    "    return chrs"
   ]
  },
  {
   "cell_type": "code",
   "execution_count": 41,
   "id": "2bb105e3",
   "metadata": {},
   "outputs": [],
   "source": [
    "F.<b> = GF(2)[]\n",
    "S.<a> = GF( 2**4, modulus = b^4 + b^3 + 1)\n",
    "li = [a^3 + a^2,\n",
    " a^2 + a,\n",
    " a + 1,\n",
    " a^3 + a^2 + a + 1,\n",
    " a^3 + a^2 + a + 1,\n",
    " a^2 + a + 1,\n",
    " a^2 + 1,\n",
    " a,\n",
    " a^2 + 1]"
   ]
  },
  {
   "cell_type": "code",
   "execution_count": 42,
   "id": "80a5a52f",
   "metadata": {},
   "outputs": [
    {
     "name": "stdout",
     "output_type": "stream",
     "text": [
      "9\n",
      "1\n",
      "9\n",
      "7\n",
      "6\n",
      "6\n",
      "12\n",
      "13\n",
      "14\n",
      "100100011001011101100110110011011110\n",
      "['1001000', '1100101', '1101100', '1101100', '1101111']\n"
     ]
    },
    {
     "data": {
      "text/plain": [
       "['H', 'e', 'l', 'l', 'o']"
      ]
     },
     "execution_count": 42,
     "metadata": {},
     "output_type": "execute_result"
    }
   ],
   "source": [
    "rscoefftomsg(li)"
   ]
  },
  {
   "cell_type": "code",
   "execution_count": 43,
   "id": "08c3d7cf",
   "metadata": {},
   "outputs": [],
   "source": [
    "def toBinary(a):\n",
    "    '''Converts a string to a string of binary values'''\n",
    "    tmp = [str(int(bin(ord(i))[2:])) for i in a]\n",
    "    b = \"\"\n",
    "    for i in tmp:\n",
    "        b = b + i\n",
    "    return b\n",
    "\n",
    "def tobincoeffs(a,n):\n",
    "    '''break the binary string passed into blocks of n length padding with zero'''\n",
    "    #compute the number of blocks\n",
    "    nb = int(len(a) / n) + 1\n",
    "    \n",
    "    #padding length needed\n",
    "    np= nb * n - len(a) \n",
    "    \n",
    "    a = a + np * '0'\n",
    "    \n",
    "    li = [a[i:i+n] for i in range(0,len(a),n)]\n",
    "    \n",
    "    return li\n",
    "\n",
    "\n",
    "def msgtorscoeff(msg):\n",
    "    '''change a messge to order of coefficients that will form the RS polynomials'''\n",
    "    binary = toBinary(msg)\n",
    "    coeffs = tobincoeffs(binary,4)\n",
    "    orders = [int(bString, 2) for bString in coeffs]\n",
    "    return orders"
   ]
  },
  {
   "cell_type": "code",
   "execution_count": 44,
   "id": "3cd21bd5",
   "metadata": {},
   "outputs": [
    {
     "data": {
      "text/plain": [
       "[9, 1, 9, 7, 6, 6, 12, 13, 14]"
      ]
     },
     "execution_count": 44,
     "metadata": {},
     "output_type": "execute_result"
    }
   ],
   "source": [
    "msgtorscoeff(\"Hello\")"
   ]
  },
  {
   "cell_type": "code",
   "execution_count": null,
   "id": "6df43750",
   "metadata": {},
   "outputs": [],
   "source": []
  }
 ],
 "metadata": {
  "kernelspec": {
   "display_name": "SageMath 10.1",
   "language": "sage",
   "name": "sagemath"
  },
  "language_info": {
   "codemirror_mode": {
    "name": "ipython",
    "version": 3
   },
   "file_extension": ".py",
   "mimetype": "text/x-python",
   "name": "python",
   "nbconvert_exporter": "python",
   "pygments_lexer": "ipython3",
   "version": "3.11.6"
  }
 },
 "nbformat": 4,
 "nbformat_minor": 5
}
