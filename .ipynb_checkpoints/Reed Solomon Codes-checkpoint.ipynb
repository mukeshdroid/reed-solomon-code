{
 "cells": [
  {
   "cell_type": "code",
   "execution_count": 1,
   "metadata": {},
   "outputs": [],
   "source": [
    "F.<b> = GF(2)[]\n",
    "S.<a> = GF( 2**4, modulus = b^4 + b^3 + 1)"
   ]
  },
  {
   "cell_type": "code",
   "execution_count": 2,
   "metadata": {},
   "outputs": [
    {
     "data": {
      "text/plain": [
       "Finite Field in a of size 2^4"
      ]
     },
     "execution_count": 2,
     "metadata": {},
     "output_type": "execute_result"
    }
   ],
   "source": [
    "S"
   ]
  },
  {
   "cell_type": "code",
   "execution_count": 3,
   "metadata": {},
   "outputs": [
    {
     "name": "stdout",
     "output_type": "stream",
     "text": [
      "a^0 :: 0\n",
      "a^1 :: a\n",
      "a^2 :: a^2\n",
      "a^3 :: a^3\n",
      "a^4 :: a^3 + 1\n",
      "a^5 :: a^3 + a + 1\n",
      "a^6 :: a^3 + a^2 + a + 1\n",
      "a^7 :: a^2 + a + 1\n",
      "a^8 :: a^3 + a^2 + a\n",
      "a^9 :: a^2 + 1\n",
      "a^10 :: a^3 + a\n",
      "a^11 :: a^3 + a^2 + 1\n",
      "a^12 :: a + 1\n",
      "a^13 :: a^2 + a\n",
      "a^14 :: a^3 + a^2\n",
      "a^15 :: 1\n"
     ]
    }
   ],
   "source": [
    "for i in range(len(list(S))):\n",
    "    print(\"a^\"+str(i) + \" :: \"+ str(list(S)[i]))"
   ]
  },
  {
   "cell_type": "code",
   "execution_count": 4,
   "metadata": {},
   "outputs": [],
   "source": [
    "R.<x> = PolynomialRing(S,'x')"
   ]
  },
  {
   "cell_type": "code",
   "execution_count": 5,
   "metadata": {},
   "outputs": [
    {
     "data": {
      "text/plain": [
       "Univariate Polynomial Ring in x over Finite Field in a of size 2^4"
      ]
     },
     "execution_count": 5,
     "metadata": {},
     "output_type": "execute_result"
    }
   ],
   "source": [
    "R"
   ]
  },
  {
   "cell_type": "code",
   "execution_count": 6,
   "metadata": {},
   "outputs": [
    {
     "data": {
      "text/plain": [
       "x^6 + (a + 1)*x^5 + x^4 + a^2*x^3 + (a^2 + a + 1)*x^2 + (a^3 + a^2 + 1)*x + a^3 + a^2 + a + 1"
      ]
     },
     "execution_count": 6,
     "metadata": {},
     "output_type": "execute_result"
    }
   ],
   "source": [
    "g = R([-a,1]) * R([-a^2,1]) * R([-a^3,1]) * R([-a^4,1]) * R([-a^5,1]) * R([-a^6,1])\n",
    "g"
   ]
  },
  {
   "cell_type": "code",
   "execution_count": 7,
   "metadata": {},
   "outputs": [
    {
     "data": {
      "text/plain": [
       "[a^2 + a + 1,\n",
       " a^3,\n",
       " a^3 + a^2 + a + 1,\n",
       " a^3,\n",
       " 1,\n",
       " a^2 + 1,\n",
       " a^2 + a + 1,\n",
       " a^3,\n",
       " a^3 + a^2 + a]"
      ]
     },
     "execution_count": 7,
     "metadata": {},
     "output_type": "execute_result"
    }
   ],
   "source": [
    "list(reversed([a^8,a^3,a^7,a^9,1,a^3,a^6,a^3,a^7]))"
   ]
  },
  {
   "cell_type": "code",
   "execution_count": 8,
   "metadata": {},
   "outputs": [
    {
     "data": {
      "text/plain": [
       "(a^3 + a^2 + a)*x^8 + a^3*x^7 + (a^2 + a + 1)*x^6 + (a^2 + 1)*x^5 + x^4 + a^3*x^3 + (a^3 + a^2 + a + 1)*x^2 + a^3*x + a^2 + a + 1"
      ]
     },
     "execution_count": 8,
     "metadata": {},
     "output_type": "execute_result"
    }
   ],
   "source": [
    "# consider the following message polynomial\n",
    "b = R(list(reversed([a^8,a^3,a^7,a^9,1,a^3,a^6,a^3,a^7])))\n",
    "b"
   ]
  },
  {
   "cell_type": "code",
   "execution_count": 9,
   "metadata": {},
   "outputs": [
    {
     "data": {
      "text/plain": [
       "(a^3 + a^2 + a)*x^14 + (a + 1)*x^13 + a^3*x^12 + (a^3 + a^2 + a)*x^11 + (a + 1)*x^10 + a^3*x^9 + (a^3 + a^2 + a)*x^8 + (a + 1)*x^7 + a^3*x^6 + (a^3 + 1)*x^5 + (a^3 + 1)*x^4 + (a^3 + a^2 + a)*x^3 + (a + 1)*x^2 + (a^3 + a^2 + 1)*x + a^2 + a"
      ]
     },
     "execution_count": 9,
     "metadata": {},
     "output_type": "execute_result"
    }
   ],
   "source": [
    "# the corres\n",
    "# c = g * R(list(reversed([a^8,a^3,a^7,a^9,1,a^3,a^6,a^3,a^7])))\n",
    "c = g * b\n",
    "c"
   ]
  },
  {
   "cell_type": "code",
   "execution_count": 10,
   "metadata": {},
   "outputs": [
    {
     "data": {
      "text/plain": [
       "(a^3 + a)*x^9 + a^3*x^5 + a^2*x^3"
      ]
     },
     "execution_count": 10,
     "metadata": {},
     "output_type": "execute_result"
    }
   ],
   "source": [
    "R([0,0,0,a^2,0,a^3,0,0,0,a^10])"
   ]
  },
  {
   "cell_type": "code",
   "execution_count": 11,
   "metadata": {},
   "outputs": [
    {
     "data": {
      "text/plain": [
       "(a^3 + a^2 + a)*x^14 + (a + 1)*x^13 + a^3*x^12 + (a^3 + a^2 + a)*x^11 + (a + 1)*x^10 + a^3*x^9 + (a^2 + 1)*x^8 + (a^3 + a + 1)*x^7 + (a^2 + a)*x^6 + (a^3 + 1)*x^5 + (a^3 + 1)*x^4 + (a^3 + a^2 + a)*x^3 + (a + 1)*x^2 + (a^3 + a^2 + 1)*x + a^2 + a"
      ]
     },
     "execution_count": 11,
     "metadata": {},
     "output_type": "execute_result"
    }
   ],
   "source": [
    "r = R(list(reversed([a^8,a^12,a^3,a^8,a^12,a^3,a^9,a^5,a^13,a^4,a^4,a^8,a^12,a^11,a^13])))\n",
    "r"
   ]
  },
  {
   "cell_type": "code",
   "execution_count": 12,
   "metadata": {},
   "outputs": [],
   "source": [
    "s1 = r(a)\n",
    "s2 = r(a^2)\n",
    "s3 = r(a^3)\n",
    "s4 = r(a^4)\n",
    "s5 = r(a^5)\n",
    "s6 = r(a^6)"
   ]
  },
  {
   "cell_type": "code",
   "execution_count": 13,
   "metadata": {},
   "outputs": [
    {
     "data": {
      "text/plain": [
       "0"
      ]
     },
     "execution_count": 13,
     "metadata": {},
     "output_type": "execute_result"
    }
   ],
   "source": [
    "s1"
   ]
  },
  {
   "cell_type": "code",
   "execution_count": 14,
   "metadata": {},
   "outputs": [
    {
     "data": {
      "text/plain": [
       "0"
      ]
     },
     "execution_count": 14,
     "metadata": {},
     "output_type": "execute_result"
    }
   ],
   "source": [
    "s2"
   ]
  },
  {
   "cell_type": "code",
   "execution_count": 15,
   "metadata": {},
   "outputs": [
    {
     "data": {
      "text/plain": [
       "a^2"
      ]
     },
     "execution_count": 15,
     "metadata": {},
     "output_type": "execute_result"
    }
   ],
   "source": [
    "s3"
   ]
  },
  {
   "cell_type": "code",
   "execution_count": 16,
   "metadata": {},
   "outputs": [
    {
     "data": {
      "text/plain": [
       "1"
      ]
     },
     "execution_count": 16,
     "metadata": {},
     "output_type": "execute_result"
    }
   ],
   "source": [
    "s4"
   ]
  },
  {
   "cell_type": "code",
   "execution_count": 17,
   "metadata": {},
   "outputs": [
    {
     "data": {
      "text/plain": [
       "1"
      ]
     },
     "execution_count": 17,
     "metadata": {},
     "output_type": "execute_result"
    }
   ],
   "source": [
    "s5"
   ]
  },
  {
   "cell_type": "code",
   "execution_count": 18,
   "metadata": {},
   "outputs": [
    {
     "data": {
      "text/plain": [
       "a + 1"
      ]
     },
     "execution_count": 18,
     "metadata": {},
     "output_type": "execute_result"
    }
   ],
   "source": [
    "s6"
   ]
  },
  {
   "cell_type": "code",
   "execution_count": 19,
   "metadata": {},
   "outputs": [
    {
     "data": {
      "text/plain": [
       "Finite Field in a of size 2^4"
      ]
     },
     "execution_count": 19,
     "metadata": {},
     "output_type": "execute_result"
    }
   ],
   "source": [
    "S"
   ]
  },
  {
   "cell_type": "code",
   "execution_count": 20,
   "metadata": {},
   "outputs": [],
   "source": [
    "Syn.<z> = PolynomialRing(S,'z')"
   ]
  },
  {
   "cell_type": "code",
   "execution_count": 21,
   "metadata": {},
   "outputs": [
    {
     "data": {
      "text/plain": [
       "(a + 1)*z^5 + z^4 + z^3 + a^2*z^2"
      ]
     },
     "execution_count": 21,
     "metadata": {},
     "output_type": "execute_result"
    }
   ],
   "source": [
    "Synpoly = s1 + s2 * z + s3 * z^2 + s4 * z^3 + s5 * z^4 + s6 * z^5\n",
    "Synpoly"
   ]
  },
  {
   "cell_type": "code",
   "execution_count": 22,
   "metadata": {},
   "outputs": [
    {
     "data": {
      "text/plain": [
       "z^6"
      ]
     },
     "execution_count": 22,
     "metadata": {},
     "output_type": "execute_result"
    }
   ],
   "source": [
    "az = Syn([0,0,0,0,0,0,1])\n",
    "az"
   ]
  },
  {
   "cell_type": "code",
   "execution_count": 23,
   "metadata": {},
   "outputs": [
    {
     "data": {
      "text/plain": [
       "z^2"
      ]
     },
     "execution_count": 23,
     "metadata": {},
     "output_type": "execute_result"
    }
   ],
   "source": [
    "gcd(az,Synpoly)"
   ]
  },
  {
   "cell_type": "code",
   "execution_count": 24,
   "metadata": {},
   "outputs": [],
   "source": [
    "gcdz , uz, vz = xgcd(az,Synpoly)"
   ]
  },
  {
   "cell_type": "code",
   "execution_count": 25,
   "metadata": {},
   "outputs": [
    {
     "data": {
      "text/plain": [
       "z^2"
      ]
     },
     "execution_count": 25,
     "metadata": {},
     "output_type": "execute_result"
    }
   ],
   "source": [
    "gcdz"
   ]
  },
  {
   "cell_type": "code",
   "execution_count": 26,
   "metadata": {},
   "outputs": [
    {
     "data": {
      "text/plain": [
       "a*z^2 + a^3*z + a^3 + a^2 + a + 1"
      ]
     },
     "execution_count": 26,
     "metadata": {},
     "output_type": "execute_result"
    }
   ],
   "source": [
    "uz"
   ]
  },
  {
   "cell_type": "code",
   "execution_count": 27,
   "metadata": {},
   "outputs": [
    {
     "data": {
      "text/plain": [
       "(a^3 + 1)*z^3 + a^3*z^2 + (a^3 + a^2 + 1)*z + a^2 + a"
      ]
     },
     "execution_count": 27,
     "metadata": {},
     "output_type": "execute_result"
    }
   ],
   "source": [
    "vz"
   ]
  },
  {
   "cell_type": "code",
   "execution_count": 28,
   "metadata": {},
   "outputs": [],
   "source": [
    "assert gcdz == uz * az + vz * Synpoly"
   ]
  },
  {
   "cell_type": "code",
   "execution_count": 29,
   "metadata": {},
   "outputs": [
    {
     "data": {
      "text/plain": [
       "(a^2 + a + 1)*z^2"
      ]
     },
     "execution_count": 29,
     "metadata": {},
     "output_type": "execute_result"
    }
   ],
   "source": [
    "#scale the values to match the slides\n",
    "\n",
    "sli_gcdz = gcdz * a^7\n",
    "sli_gcdz"
   ]
  },
  {
   "cell_type": "code",
   "execution_count": 30,
   "metadata": {},
   "outputs": [
    {
     "data": {
      "text/plain": [
       "(a^3 + a^2 + a)*z^2 + (a^3 + a)*z + a^2 + a"
      ]
     },
     "execution_count": 30,
     "metadata": {},
     "output_type": "execute_result"
    }
   ],
   "source": [
    "sli_uz = uz * a^7\n",
    "sli_uz"
   ]
  },
  {
   "cell_type": "code",
   "execution_count": 31,
   "metadata": {},
   "outputs": [
    {
     "data": {
      "text/plain": [
       "(a^3 + a^2 + 1)*z^3 + (a^3 + a)*z^2 + a^3*z + a^3 + a + 1"
      ]
     },
     "execution_count": 31,
     "metadata": {},
     "output_type": "execute_result"
    }
   ],
   "source": [
    "sli_vz = vz * a^7\n",
    "sli_vz"
   ]
  },
  {
   "cell_type": "code",
   "execution_count": 32,
   "metadata": {},
   "outputs": [
    {
     "data": {
      "text/plain": [
       "[7, 8, 9]"
      ]
     },
     "execution_count": 32,
     "metadata": {},
     "output_type": "execute_result"
    }
   ],
   "source": [
    "invroot_indices = []\n",
    "for i in range(1,16):\n",
    "    if sli_vz(a^i) == 0:\n",
    "        invroot_indices.append(i)\n",
    "invroot_indices"
   ]
  },
  {
   "cell_type": "code",
   "execution_count": 33,
   "metadata": {},
   "outputs": [
    {
     "data": {
      "text/plain": [
       "{7: 8, 8: 7, 9: 6}"
      ]
     },
     "execution_count": 33,
     "metadata": {},
     "output_type": "execute_result"
    }
   ],
   "source": [
    "# these are the error positions\n",
    "root_indices = {}\n",
    "for i in invroot_indices:\n",
    "    root_indices[i] = len(list(S)) -1 -i\n",
    "root_indices"
   ]
  },
  {
   "cell_type": "code",
   "execution_count": 34,
   "metadata": {},
   "outputs": [
    {
     "data": {
      "text/plain": [
       "(a^3 + a^2 + 1)*z^2 + a^3"
      ]
     },
     "execution_count": 34,
     "metadata": {},
     "output_type": "execute_result"
    }
   ],
   "source": [
    "#get coefficients of the error position\n",
    "sli_vzdif = sli_vz.diff()\n",
    "sli_vzdif"
   ]
  },
  {
   "cell_type": "code",
   "execution_count": 35,
   "metadata": {},
   "outputs": [
    {
     "data": {
      "text/plain": [
       "{8: a^3 + a + 1, 7: a^3, 6: a^3 + a^2 + a}"
      ]
     },
     "execution_count": 35,
     "metadata": {},
     "output_type": "execute_result"
    }
   ],
   "source": [
    "error_coeff = {}\n",
    "for i in invroot_indices:\n",
    "       error_coeff[root_indices[i]] = (sli_gcdz(a^i) / sli_vzdif(a^i))\n",
    "error_coeff"
   ]
  },
  {
   "cell_type": "code",
   "execution_count": 46,
   "metadata": {},
   "outputs": [
    {
     "data": {
      "text/plain": [
       "(a^3 + a + 1)*x^8 + a^3*x^7 + (a^3 + a^2 + a)*x^6"
      ]
     },
     "execution_count": 46,
     "metadata": {},
     "output_type": "execute_result"
    }
   ],
   "source": [
    "# error_poly = 0\n",
    "# for i in error_coeff:\n",
    "#     error_poly = error_poly + error_coeff[i] * x^i\n",
    "    \n",
    "error_poly = R(list(reversed([a^3+a+1,a^3,a^3+a^2+a,0,0,0,0,0,0])))\n",
    "error_poly"
   ]
  },
  {
   "cell_type": "code",
   "execution_count": 47,
   "metadata": {},
   "outputs": [
    {
     "data": {
      "text/plain": [
       "(a^3 + a^2 + a)*x^14 + (a + 1)*x^13 + a^3*x^12 + (a^3 + a^2 + a)*x^11 + (a + 1)*x^10 + a^3*x^9 + (a^3 + a^2 + a)*x^8 + (a + 1)*x^7 + a^3*x^6 + (a^3 + 1)*x^5 + (a^3 + 1)*x^4 + (a^3 + a^2 + a)*x^3 + (a + 1)*x^2 + (a^3 + a^2 + 1)*x + a^2 + a"
      ]
     },
     "execution_count": 47,
     "metadata": {},
     "output_type": "execute_result"
    }
   ],
   "source": [
    "c"
   ]
  },
  {
   "cell_type": "code",
   "execution_count": 48,
   "metadata": {},
   "outputs": [
    {
     "data": {
      "text/plain": [
       "(a^3 + a^2 + a)*x^14 + (a + 1)*x^13 + a^3*x^12 + (a^3 + a^2 + a)*x^11 + (a + 1)*x^10 + a^3*x^9 + (a^2 + 1)*x^8 + (a^3 + a + 1)*x^7 + (a^2 + a)*x^6 + (a^3 + 1)*x^5 + (a^3 + 1)*x^4 + (a^3 + a^2 + a)*x^3 + (a + 1)*x^2 + (a^3 + a^2 + 1)*x + a^2 + a"
      ]
     },
     "execution_count": 48,
     "metadata": {},
     "output_type": "execute_result"
    }
   ],
   "source": [
    "r"
   ]
  },
  {
   "cell_type": "code",
   "execution_count": 49,
   "metadata": {},
   "outputs": [
    {
     "data": {
      "text/plain": [
       "(a^3 + a^2 + a)*x^14 + (a + 1)*x^13 + a^3*x^12 + (a^3 + a^2 + a)*x^11 + (a + 1)*x^10 + a^3*x^9 + (a^2 + 1)*x^8 + (a^3 + a + 1)*x^7 + (a^2 + a)*x^6 + (a^3 + 1)*x^5 + (a^3 + 1)*x^4 + (a^3 + a^2 + a)*x^3 + (a + 1)*x^2 + (a^3 + a^2 + 1)*x + a^2 + a"
      ]
     },
     "execution_count": 49,
     "metadata": {},
     "output_type": "execute_result"
    }
   ],
   "source": [
    "c + error_poly"
   ]
  },
  {
   "cell_type": "code",
   "execution_count": 50,
   "metadata": {},
   "outputs": [],
   "source": [
    "assert c + error_poly == r"
   ]
  },
  {
   "cell_type": "code",
   "execution_count": null,
   "metadata": {},
   "outputs": [],
   "source": []
  }
 ],
 "metadata": {
  "kernelspec": {
   "display_name": "SageMath 10.1",
   "language": "sage",
   "name": "sagemath"
  },
  "language_info": {
   "codemirror_mode": {
    "name": "ipython",
    "version": 3
   },
   "file_extension": ".py",
   "mimetype": "text/x-python",
   "name": "python",
   "nbconvert_exporter": "python",
   "pygments_lexer": "ipython3",
   "version": "3.11.6"
  }
 },
 "nbformat": 4,
 "nbformat_minor": 4
}
