{
 "cells": [
  {
   "cell_type": "code",
   "execution_count": 54,
   "id": "08eb3ea0",
   "metadata": {},
   "outputs": [],
   "source": [
    "import math"
   ]
  },
  {
   "cell_type": "code",
   "execution_count": 62,
   "id": "3ba48e89",
   "metadata": {},
   "outputs": [],
   "source": [
    "def toBinary(a):\n",
    "    '''Converts a string to a string of binary values'''\n",
    "    tmp = [str(int(bin(ord(i))[2:])) for i in a]\n",
    "    b = \"\"\n",
    "    for i in tmp:\n",
    "        b = b + i\n",
    "    return b"
   ]
  },
  {
   "cell_type": "code",
   "execution_count": 63,
   "id": "86c14c76",
   "metadata": {},
   "outputs": [
    {
     "name": "stdout",
     "output_type": "stream",
     "text": [
      "11010001100101110110011011001101111\n",
      "35\n"
     ]
    }
   ],
   "source": [
    "print(toBinary(\"hello\"))\n",
    "print(len(toBinary(\"hello\")))"
   ]
  },
  {
   "cell_type": "code",
   "execution_count": 64,
   "id": "be7caf89",
   "metadata": {},
   "outputs": [],
   "source": [
    "def tobincoeffs(a,n):\n",
    "    '''break the binary string passed into blocks of n length padding with zero'''\n",
    "    #compute the number of blocks\n",
    "    nb = int(len(a) / n) + 1\n",
    "    \n",
    "    #padding length needed\n",
    "    np= nb * n - len(a) \n",
    "    \n",
    "    a = a + np * '0'\n",
    "    \n",
    "    li = [a[i:i+n] for i in range(0,len(a),n)]\n",
    "    \n",
    "    return li\n",
    "    "
   ]
  },
  {
   "cell_type": "code",
   "execution_count": 65,
   "id": "f6cf47c4",
   "metadata": {
    "scrolled": true
   },
   "outputs": [
    {
     "data": {
      "text/plain": [
       "['abcd', 'efgh', 'ijkl', 'mn00']"
      ]
     },
     "execution_count": 65,
     "metadata": {},
     "output_type": "execute_result"
    }
   ],
   "source": [
    "tobincoeffs('abcdefghijklmn',4)"
   ]
  },
  {
   "cell_type": "code",
   "execution_count": 66,
   "id": "60333445",
   "metadata": {},
   "outputs": [],
   "source": [
    "def msgtorscoeff(msg):\n",
    "    '''change a messge to order of coefficients that will form the RS polynomials'''\n",
    "    binary = toBinary(msg)\n",
    "    coeffs = tobincoeffs(binary,4)\n",
    "    orders = [int(bString, 2) for bString in coeffs]\n",
    "    print(orders)\n",
    "    "
   ]
  },
  {
   "cell_type": "code",
   "execution_count": 67,
   "id": "53f4fe38",
   "metadata": {},
   "outputs": [
    {
     "name": "stdout",
     "output_type": "stream",
     "text": [
      "[13, 1, 9, 7, 6, 6, 12, 13, 14]\n"
     ]
    }
   ],
   "source": [
    "msgtorscoeff('hello')"
   ]
  },
  {
   "cell_type": "code",
   "execution_count": 61,
   "id": "1d1f6e4c",
   "metadata": {},
   "outputs": [
    {
     "name": "stdout",
     "output_type": "stream",
     "text": [
      " \n",
      " ''[1001000, 1100101, 1101100, 1101100, 1101111,]'' in string is \n",
      "Hello\n"
     ]
    }
   ],
   "source": [
    "def toString(a):\n",
    "\n",
    "  l=[]\n",
    "\n",
    "  m=\"\"\n",
    "\n",
    "  for i in a:\n",
    "\n",
    "    b=0\n",
    "\n",
    "    c=0\n",
    "\n",
    "    k=int(math.log10(i))+1\n",
    "\n",
    "    for j in range(k):\n",
    "\n",
    "      b=((i%10)*(2**j))   \n",
    "\n",
    "      i=i//10\n",
    "\n",
    "      c=c+b\n",
    "\n",
    "    l.append(c)\n",
    "\n",
    "  for x in l:\n",
    "\n",
    "    m=m+chr(x)\n",
    "\n",
    "  return m\n",
    "\n",
    "\n",
    "\n",
    "print(\" \\n ''[1001000, 1100101, 1101100, 1101100, 1101111,]'' in string is \")\n",
    "\n",
    "print(toString([1001000, 1100101, 1101100, 1101100, 1101111,]))"
   ]
  },
  {
   "cell_type": "code",
   "execution_count": null,
   "id": "37be3693",
   "metadata": {},
   "outputs": [],
   "source": []
  }
 ],
 "metadata": {
  "kernelspec": {
   "display_name": "SageMath 10.1",
   "language": "sage",
   "name": "sagemath"
  },
  "language_info": {
   "codemirror_mode": {
    "name": "ipython",
    "version": 3
   },
   "file_extension": ".py",
   "mimetype": "text/x-python",
   "name": "python",
   "nbconvert_exporter": "python",
   "pygments_lexer": "ipython3",
   "version": "3.11.6"
  }
 },
 "nbformat": 4,
 "nbformat_minor": 5
}
