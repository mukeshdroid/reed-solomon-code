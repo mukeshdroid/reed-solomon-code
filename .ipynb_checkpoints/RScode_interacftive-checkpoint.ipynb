{
 "cells": [
  {
   "cell_type": "code",
   "execution_count": 2,
   "id": "29074768",
   "metadata": {},
   "outputs": [],
   "source": [
    "def toBinary(a):\n",
    "    '''Converts a string to a string of binary values'''\n",
    "    tmp = [str(int(bin(ord(i))[2:])) for i in a]\n",
    "    b = \"\"\n",
    "    for i in tmp:\n",
    "        b = b + i\n",
    "    return b\n",
    "\n",
    "def tobincoeffs(a,n):\n",
    "    '''break the binary string passed into blocks of n length padding with zero'''\n",
    "    #compute the number of blocks\n",
    "    nb = int(len(a) / n) + 1\n",
    "    \n",
    "    #padding length needed\n",
    "    np= nb * n - len(a) \n",
    "    \n",
    "    a = a + np * '0'\n",
    "    \n",
    "    li = [a[i:i+n] for i in range(0,len(a),n)]\n",
    "    \n",
    "    return li\n",
    "\n",
    "\n",
    "def msgtorscoeff(msg):\n",
    "    '''change a messge to order of coefficients that will form the RS polynomials'''\n",
    "    binary = toBinary(msg)\n",
    "    coeffs = tobincoeffs(binary,4)\n",
    "    orders = [int(bString, 2) for bString in coeffs]\n",
    "    return orders\n",
    "    \n",
    "\n",
    "class rs:\n",
    "    \n",
    "    def __init__(self):\n",
    "        '''initialize a rs code with msg length 4'''\n",
    "#         self.F.<b> = GF(2)[]\n",
    "#         self.S.<a> = GF( 2**4, modulus = b^4 + b^3 + 1)\n",
    "#         self.R.<x> = PolynomialRing(S,'x')\n",
    "#         self.Syn.<z> = PolynomialRing(S,'z')\n",
    "    \n",
    "    def rs_encode(self,msg):\n",
    "        F.<b> = GF(2)[]\n",
    "        S.<a> = GF( 2**4, modulus = b^4 + b^3 + 1)\n",
    "        R.<x> = PolynomialRing(S,'x')\n",
    "        Syn.<z> = PolynomialRing(S,'z')\n",
    "        g = R([-a,1]) * R([-a^2,1]) * R([-a^3,1]) * R([-a^4,1]) * R([-a^5,1]) * R([-a^6,1])\n",
    "        # convert the message to polynomial\n",
    "        coeff = msgtorscoeff(msg)\n",
    "        b = R(list(reversed([a^i for i in coeff])))\n",
    "        # generate the codeword\n",
    "        c = g * b\n",
    "        print(c)\n",
    "        return c\n",
    "\n",
    "    def rs_decode(self,codeword):\n",
    "        F.<b> = GF(2)[]\n",
    "        S.<a> = GF( 2**4, modulus = b^4 + b^3 + 1)\n",
    "        R.<x> = PolynomialRing(S,'x')\n",
    "        Syn.<z> = PolynomialRing(S,'z')\n",
    "        r = codeword\n",
    "        s1 = r(a)\n",
    "        s2 = r(a^2)\n",
    "        s3 = r(a^3)\n",
    "        s4 = r(a^4)\n",
    "        s5 = r(a^5)\n",
    "        s6 = r(a^6)\n",
    "        Synpoly = s1 + s2 * z + s3 * z^2 + s4 * z^3 + s5 * z^4 + s6 * z^5\n",
    "        az = Syn([0,0,0,0,0,0,1])\n",
    "        gcd(az,Synpoly)\n",
    "        gcdz , uz, vz = xgcd(az,Synpoly)\n",
    "        sli_gcdz = gcdz * a^7\n",
    "        sli_uz = uz * a^7\n",
    "        sli_vz = vz * a^7\n",
    "        invroot_indices = []\n",
    "        for i in range(1,16):\n",
    "            if sli_vz(a^i) == 0:\n",
    "                invroot_indices.append(i)\n",
    "        # these are the error positions\n",
    "        root_indices = {}\n",
    "        for i in invroot_indices:\n",
    "            root_indices[i] = len(list(S)) -1 -i\n",
    "        #get coefficients of the error position\n",
    "        sli_vzdif = sli_vz.diff()\n",
    "        error_coeff = {}\n",
    "        for i in invroot_indices:\n",
    "               error_coeff[root_indices[i]] = (sli_gcdz(a^i) / sli_vzdif(a^i))\n",
    "        error_poly = R(list(reversed([a^3+a+1,a^3,a^3+a^2+a,0,0,0,0,0,0])))\n",
    "        return r - error_poly"
   ]
  },
  {
   "cell_type": "code",
   "execution_count": 4,
   "id": "24f03ac7",
   "metadata": {},
   "outputs": [
    {
     "name": "stdout",
     "output_type": "stream",
     "text": [
      "(a^2 + a)*x^14 + a^3*x^13 + (a^2 + 1)*x^12 + (a^3 + a + 1)*x^11 + (a^2 + a)*x^9 + (a^3 + 1)*x^8 + a*x^7 + a^2*x^6 + (a + 1)*x^5 + (a + 1)*x^4 + a^2*x^3 + a*x^2 + (a + 1)*x + a^3 + a + 1\n"
     ]
    },
    {
     "data": {
      "text/plain": [
       "[a^3 + a + 1,\n",
       " a + 1,\n",
       " a,\n",
       " a^2,\n",
       " a + 1,\n",
       " a + 1,\n",
       " a^2,\n",
       " a,\n",
       " a^3 + 1,\n",
       " a^2 + a,\n",
       " a^3 + a + 1,\n",
       " a^2 + 1,\n",
       " a^3,\n",
       " a^2 + a]"
      ]
     },
     "execution_count": 4,
     "metadata": {},
     "output_type": "execute_result"
    }
   ],
   "source": [
    "rscode = rs()\n",
    "rscode.rs_encode('hello').coefficients()"
   ]
  },
  {
   "cell_type": "code",
   "execution_count": null,
   "id": "4299b3a3",
   "metadata": {},
   "outputs": [],
   "source": []
  }
 ],
 "metadata": {
  "kernelspec": {
   "display_name": "SageMath 10.1",
   "language": "sage",
   "name": "sagemath"
  },
  "language_info": {
   "codemirror_mode": {
    "name": "ipython",
    "version": 3
   },
   "file_extension": ".py",
   "mimetype": "text/x-python",
   "name": "python",
   "nbconvert_exporter": "python",
   "pygments_lexer": "ipython3",
   "version": "3.11.6"
  }
 },
 "nbformat": 4,
 "nbformat_minor": 5
}
