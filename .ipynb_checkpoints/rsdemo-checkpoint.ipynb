{
 "cells": [
  {
   "cell_type": "code",
   "execution_count": 3,
   "id": "d1585404",
   "metadata": {},
   "outputs": [],
   "source": [
    "from rscode import *"
   ]
  },
  {
   "cell_type": "code",
   "execution_count": 5,
   "id": "cfbde627",
   "metadata": {},
   "outputs": [
    {
     "name": "stdout",
     "output_type": "stream",
     "text": [
      "message : (a^2 + 1)*x^8 + a*x^7 + (a^2 + 1)*x^6 + (a^2 + a + 1)*x^5 + (a^3 + a^2 + a + 1)*x^4 + (a^3 + a^2 + a + 1)*x^3 + (a + 1)*x^2 + (a^2 + a)*x + a^3 + a^2\n",
      "codeword: (a^2 + 1)*x^14 + (a^3 + a^2 + 1)*x^13 + (a^2 + a)*x^12 + (a^2 + a + 1)*x^11 + (a^3 + 1)*x^10 + a^3*x^9 + x^8 + a*x^7 + a^2*x^6 + (a + 1)*x^5 + (a + 1)*x^4 + a^2*x^3 + a*x^2 + (a + 1)*x + a^3 + a + 1\n"
     ]
    },
    {
     "data": {
      "text/plain": [
       "[a^3 + a + 1,\n",
       " a + 1,\n",
       " a,\n",
       " a^2,\n",
       " a + 1,\n",
       " a + 1,\n",
       " a^2,\n",
       " a,\n",
       " 1,\n",
       " a^3,\n",
       " a^3 + 1,\n",
       " a^2 + a + 1,\n",
       " a^2 + a,\n",
       " a^3 + a^2 + 1,\n",
       " a^2 + 1]"
      ]
     },
     "execution_count": 5,
     "metadata": {},
     "output_type": "execute_result"
    }
   ],
   "source": [
    "# we try to send a message 'Hello' by encoding it with redundency using RS code\n",
    "\n",
    "rscode = rs()\n",
    "recieved = rscode.rs_encode('Hello').coefficients(sparse=False)\n",
    "recieved"
   ]
  },
  {
   "cell_type": "code",
   "execution_count": 6,
   "id": "c5aef609",
   "metadata": {},
   "outputs": [
    {
     "data": {
      "text/plain": [
       "[a^3 + a + 1,\n",
       " a + 1,\n",
       " a,\n",
       " 1,\n",
       " 1,\n",
       " 1,\n",
       " a^2,\n",
       " a,\n",
       " 1,\n",
       " a^3,\n",
       " a^3 + 1,\n",
       " a^2 + a + 1,\n",
       " a^2 + a,\n",
       " a^3 + a^2 + 1,\n",
       " a^2 + 1]"
      ]
     },
     "execution_count": 6,
     "metadata": {},
     "output_type": "execute_result"
    }
   ],
   "source": [
    "#lets introduce some error\n",
    "\n",
    "recieved[3] = 1\n",
    "recieved[4] = 1\n",
    "recieved[5] = 1\n",
    "recieved"
   ]
  },
  {
   "cell_type": "code",
   "execution_count": 7,
   "id": "862480c9",
   "metadata": {},
   "outputs": [
    {
     "name": "stdout",
     "output_type": "stream",
     "text": [
      "r : (a^2 + 1)*x^14 + (a^3 + a^2 + 1)*x^13 + (a^2 + a)*x^12 + (a^2 + a + 1)*x^11 + (a^3 + 1)*x^10 + a^3*x^9 + x^8 + a*x^7 + a^2*x^6 + x^5 + x^4 + x^3 + a*x^2 + (a + 1)*x + a^3 + a + 1\n",
      "a^2 + a + 1|a^3 + 1|a^3 + a^2|a^2|a^2 + a + 1|a^3 + a + 1\n",
      "error_poly : (a + 1)*x\n",
      "decoded_codeword : (a^2 + 1)*x^14 + (a^3 + a^2 + 1)*x^13 + (a^2 + a)*x^12 + (a^2 + a + 1)*x^11 + (a^3 + 1)*x^10 + a^3*x^9 + x^8 + a*x^7 + a^2*x^6 + x^5 + x^4 + x^3 + a*x^2 + a^3 + a + 1\n"
     ]
    },
    {
     "data": {
      "text/plain": [
       "'Hello'"
      ]
     },
     "execution_count": 7,
     "metadata": {},
     "output_type": "execute_result"
    }
   ],
   "source": [
    "# The sent codeword has been corrupted yet the RS deocode gets the right result\n",
    "decoded =  rscode.rs_decode(recieved)\n",
    "decoded"
   ]
  },
  {
   "cell_type": "code",
   "execution_count": null,
   "id": "cd5c9b9a",
   "metadata": {},
   "outputs": [],
   "source": []
  }
 ],
 "metadata": {
  "kernelspec": {
   "display_name": "SageMath 10.1",
   "language": "sage",
   "name": "sagemath"
  },
  "language_info": {
   "codemirror_mode": {
    "name": "ipython",
    "version": 3
   },
   "file_extension": ".py",
   "mimetype": "text/x-python",
   "name": "python",
   "nbconvert_exporter": "python",
   "pygments_lexer": "ipython3",
   "version": "3.11.6"
  }
 },
 "nbformat": 4,
 "nbformat_minor": 5
}
