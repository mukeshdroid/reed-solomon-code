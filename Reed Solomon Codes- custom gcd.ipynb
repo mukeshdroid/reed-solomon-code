{
 "cells": [
  {
   "cell_type": "code",
   "execution_count": 28,
   "metadata": {},
   "outputs": [],
   "source": [
    "#extended euclids algorithm\n",
    "def extended_euclides(a,b,quo=lambda a,b:a//b):\n",
    "    r0 = a; r1 = b\n",
    "    s0 = 1; s1 = 0\n",
    "    t0 = 0; t1 = 1\n",
    "\n",
    "    while r1 != 0:\n",
    "        q = quo(r0, r1)\n",
    "        r0, r1 = r1, r0 - q * r1\n",
    "        s0, s1 = s1, s0 - q * s1\n",
    "        t0, t1 = t1, t0 - q * t1\n",
    "\n",
    "    return r0, s0, t0"
   ]
  },
  {
   "cell_type": "code",
   "execution_count": 82,
   "metadata": {},
   "outputs": [],
   "source": [
    "F.<b> = GF(2)[]\n",
    "S.<a> = GF( 2**4, modulus = b^4 + b^3 + 1)"
   ]
  },
  {
   "cell_type": "code",
   "execution_count": 83,
   "metadata": {},
   "outputs": [
    {
     "data": {
      "text/plain": [
       "Finite Field in a of size 2^4"
      ]
     },
     "execution_count": 83,
     "metadata": {},
     "output_type": "execute_result"
    }
   ],
   "source": [
    "S"
   ]
  },
  {
   "cell_type": "code",
   "execution_count": 84,
   "metadata": {},
   "outputs": [
    {
     "name": "stdout",
     "output_type": "stream",
     "text": [
      "a^0 :: 0\n",
      "a^1 :: a\n",
      "a^2 :: a^2\n",
      "a^3 :: a^3\n",
      "a^4 :: a^3 + 1\n",
      "a^5 :: a^3 + a + 1\n",
      "a^6 :: a^3 + a^2 + a + 1\n",
      "a^7 :: a^2 + a + 1\n",
      "a^8 :: a^3 + a^2 + a\n",
      "a^9 :: a^2 + 1\n",
      "a^10 :: a^3 + a\n",
      "a^11 :: a^3 + a^2 + 1\n",
      "a^12 :: a + 1\n",
      "a^13 :: a^2 + a\n",
      "a^14 :: a^3 + a^2\n",
      "a^15 :: 1\n"
     ]
    }
   ],
   "source": [
    "for i in range(len(list(S))):\n",
    "    print(\"a^\"+str(i) + \" :: \"+ str(list(S)[i]))"
   ]
  },
  {
   "cell_type": "code",
   "execution_count": 85,
   "metadata": {},
   "outputs": [],
   "source": [
    "R.<x> = PolynomialRing(S,'x')"
   ]
  },
  {
   "cell_type": "code",
   "execution_count": 86,
   "metadata": {},
   "outputs": [
    {
     "data": {
      "text/plain": [
       "Univariate Polynomial Ring in x over Finite Field in a of size 2^4"
      ]
     },
     "execution_count": 86,
     "metadata": {},
     "output_type": "execute_result"
    }
   ],
   "source": [
    "R"
   ]
  },
  {
   "cell_type": "code",
   "execution_count": 87,
   "metadata": {},
   "outputs": [
    {
     "data": {
      "text/plain": [
       "x^6 + (a + 1)*x^5 + x^4 + a^2*x^3 + (a^2 + a + 1)*x^2 + (a^3 + a^2 + 1)*x + a^3 + a^2 + a + 1"
      ]
     },
     "execution_count": 87,
     "metadata": {},
     "output_type": "execute_result"
    }
   ],
   "source": [
    "g = R([-a,1]) * R([-a^2,1]) * R([-a^3,1]) * R([-a^4,1]) * R([-a^5,1]) * R([-a^6,1])\n",
    "g"
   ]
  },
  {
   "cell_type": "code",
   "execution_count": 88,
   "metadata": {},
   "outputs": [
    {
     "data": {
      "text/plain": [
       "[a^2 + a + 1,\n",
       " a^3,\n",
       " a^3 + a^2 + a + 1,\n",
       " a^3,\n",
       " 1,\n",
       " a^2 + 1,\n",
       " a^2 + a + 1,\n",
       " a^3,\n",
       " a^3 + a^2 + a]"
      ]
     },
     "execution_count": 88,
     "metadata": {},
     "output_type": "execute_result"
    }
   ],
   "source": [
    "list(reversed([a^8,a^3,a^7,a^9,1,a^3,a^6,a^3,a^7]))"
   ]
  },
  {
   "cell_type": "code",
   "execution_count": 89,
   "metadata": {},
   "outputs": [
    {
     "data": {
      "text/plain": [
       "(a^3 + a^2 + a)*x^8 + a^3*x^7 + (a^2 + a + 1)*x^6 + (a^2 + 1)*x^5 + x^4 + a^3*x^3 + (a^3 + a^2 + a + 1)*x^2 + a^3*x + a^2 + a + 1"
      ]
     },
     "execution_count": 89,
     "metadata": {},
     "output_type": "execute_result"
    }
   ],
   "source": [
    "# consider the following message polynomial\n",
    "b = R(list(reversed([a^8,a^3,a^7,a^9,1,a^3,a^6,a^3,a^7])))\n",
    "b"
   ]
  },
  {
   "cell_type": "code",
   "execution_count": 90,
   "metadata": {},
   "outputs": [
    {
     "data": {
      "text/plain": [
       "(a^3 + a^2 + a)*x^14 + (a + 1)*x^13 + a^3*x^12 + (a^3 + a^2 + a)*x^11 + (a + 1)*x^10 + a^3*x^9 + (a^3 + a^2 + a)*x^8 + (a + 1)*x^7 + a^3*x^6 + (a^3 + 1)*x^5 + (a^3 + 1)*x^4 + (a^3 + a^2 + a)*x^3 + (a + 1)*x^2 + (a^3 + a^2 + 1)*x + a^2 + a"
      ]
     },
     "execution_count": 90,
     "metadata": {},
     "output_type": "execute_result"
    }
   ],
   "source": [
    "# the corres\n",
    "# c = g * R(list(reversed([a^8,a^3,a^7,a^9,1,a^3,a^6,a^3,a^7])))\n",
    "c = g * b\n",
    "c"
   ]
  },
  {
   "cell_type": "code",
   "execution_count": 91,
   "metadata": {},
   "outputs": [
    {
     "data": {
      "text/plain": [
       "[a^2 + a,\n",
       " a^3 + a^2 + 1,\n",
       " a + 1,\n",
       " a^3 + a^2 + a,\n",
       " a^3 + 1,\n",
       " a^3 + 1,\n",
       " a^3,\n",
       " a + 1,\n",
       " a^3 + a^2 + a,\n",
       " a^3,\n",
       " a + 1,\n",
       " a^3 + a^2 + a,\n",
       " a^3,\n",
       " a + 1,\n",
       " a^3 + a^2 + a]"
      ]
     },
     "execution_count": 91,
     "metadata": {},
     "output_type": "execute_result"
    }
   ],
   "source": [
    "c.coefficients()"
   ]
  },
  {
   "cell_type": "code",
   "execution_count": 92,
   "metadata": {},
   "outputs": [
    {
     "data": {
      "text/plain": [
       "(a^3 + a)*x^9 + a^3*x^5 + a^2*x^3"
      ]
     },
     "execution_count": 92,
     "metadata": {},
     "output_type": "execute_result"
    }
   ],
   "source": [
    "R([0,0,0,a^2,0,a^3,0,0,0,a^10])"
   ]
  },
  {
   "cell_type": "code",
   "execution_count": 40,
   "metadata": {},
   "outputs": [
    {
     "data": {
      "text/plain": [
       "(a^3 + a^2 + a)*x^14 + (a + 1)*x^13 + a^3*x^12 + (a^3 + a^2 + a)*x^11 + (a + 1)*x^10 + a^3*x^9 + (a^2 + 1)*x^8 + (a^3 + a + 1)*x^7 + (a^2 + a)*x^6 + (a^3 + 1)*x^5 + (a^3 + 1)*x^4 + (a^3 + a^2 + a)*x^3 + (a + 1)*x^2 + (a^3 + a^2 + 1)*x + a^2 + a"
      ]
     },
     "execution_count": 40,
     "metadata": {},
     "output_type": "execute_result"
    }
   ],
   "source": [
    "r = R(list(reversed([a^8,a^12,a^3,a^8,a^12,a^3,a^9,a^5,a^13,a^4,a^4,a^8,a^12,a^11,a^13])))\n",
    "r"
   ]
  },
  {
   "cell_type": "code",
   "execution_count": 93,
   "metadata": {},
   "outputs": [],
   "source": [
    "s1 = r(a)\n",
    "s2 = r(a^2)\n",
    "s3 = r(a^3)\n",
    "s4 = r(a^4)\n",
    "s5 = r(a^5)\n",
    "s6 = r(a^6)"
   ]
  },
  {
   "cell_type": "code",
   "execution_count": 94,
   "metadata": {},
   "outputs": [
    {
     "data": {
      "text/plain": [
       "0"
      ]
     },
     "execution_count": 94,
     "metadata": {},
     "output_type": "execute_result"
    }
   ],
   "source": [
    "s1"
   ]
  },
  {
   "cell_type": "code",
   "execution_count": 95,
   "metadata": {},
   "outputs": [
    {
     "data": {
      "text/plain": [
       "0"
      ]
     },
     "execution_count": 95,
     "metadata": {},
     "output_type": "execute_result"
    }
   ],
   "source": [
    "s2"
   ]
  },
  {
   "cell_type": "code",
   "execution_count": 96,
   "metadata": {},
   "outputs": [
    {
     "data": {
      "text/plain": [
       "a^2"
      ]
     },
     "execution_count": 96,
     "metadata": {},
     "output_type": "execute_result"
    }
   ],
   "source": [
    "s3"
   ]
  },
  {
   "cell_type": "code",
   "execution_count": 97,
   "metadata": {},
   "outputs": [
    {
     "data": {
      "text/plain": [
       "1"
      ]
     },
     "execution_count": 97,
     "metadata": {},
     "output_type": "execute_result"
    }
   ],
   "source": [
    "s4"
   ]
  },
  {
   "cell_type": "code",
   "execution_count": 98,
   "metadata": {},
   "outputs": [
    {
     "data": {
      "text/plain": [
       "1"
      ]
     },
     "execution_count": 98,
     "metadata": {},
     "output_type": "execute_result"
    }
   ],
   "source": [
    "s5"
   ]
  },
  {
   "cell_type": "code",
   "execution_count": 99,
   "metadata": {},
   "outputs": [
    {
     "data": {
      "text/plain": [
       "a + 1"
      ]
     },
     "execution_count": 99,
     "metadata": {},
     "output_type": "execute_result"
    }
   ],
   "source": [
    "s6"
   ]
  },
  {
   "cell_type": "code",
   "execution_count": 100,
   "metadata": {},
   "outputs": [
    {
     "data": {
      "text/plain": [
       "Finite Field in a of size 2^4"
      ]
     },
     "execution_count": 100,
     "metadata": {},
     "output_type": "execute_result"
    }
   ],
   "source": [
    "S"
   ]
  },
  {
   "cell_type": "code",
   "execution_count": 101,
   "metadata": {},
   "outputs": [],
   "source": [
    "Syn.<z> = PolynomialRing(S,'z')"
   ]
  },
  {
   "cell_type": "code",
   "execution_count": 102,
   "metadata": {},
   "outputs": [
    {
     "data": {
      "text/plain": [
       "(a + 1)*z^5 + z^4 + z^3 + a^2*z^2"
      ]
     },
     "execution_count": 102,
     "metadata": {},
     "output_type": "execute_result"
    }
   ],
   "source": [
    "Synpoly = s1 + s2 * z + s3 * z^2 + s4 * z^3 + s5 * z^4 + s6 * z^5\n",
    "Synpoly"
   ]
  },
  {
   "cell_type": "code",
   "execution_count": 103,
   "metadata": {},
   "outputs": [
    {
     "data": {
      "text/plain": [
       "z^6"
      ]
     },
     "execution_count": 103,
     "metadata": {},
     "output_type": "execute_result"
    }
   ],
   "source": [
    "az = Syn([0,0,0,0,0,0,1])\n",
    "az"
   ]
  },
  {
   "cell_type": "code",
   "execution_count": 104,
   "metadata": {},
   "outputs": [
    {
     "data": {
      "text/plain": [
       "z^2"
      ]
     },
     "execution_count": 104,
     "metadata": {},
     "output_type": "execute_result"
    }
   ],
   "source": [
    "gcd(az,Synpoly)"
   ]
  },
  {
   "cell_type": "code",
   "execution_count": 105,
   "metadata": {},
   "outputs": [],
   "source": [
    "gcdz , uz, vz = extended_euclides(az,Synpoly)"
   ]
  },
  {
   "cell_type": "code",
   "execution_count": 106,
   "metadata": {},
   "outputs": [
    {
     "data": {
      "text/plain": [
       "(a^2 + a + 1)*z^2"
      ]
     },
     "execution_count": 106,
     "metadata": {},
     "output_type": "execute_result"
    }
   ],
   "source": [
    "gcdz"
   ]
  },
  {
   "cell_type": "code",
   "execution_count": 55,
   "metadata": {},
   "outputs": [
    {
     "data": {
      "text/plain": [
       "(a^3 + a^2 + a)*z^2 + (a^3 + a)*z + a^2 + a"
      ]
     },
     "execution_count": 55,
     "metadata": {},
     "output_type": "execute_result"
    }
   ],
   "source": [
    "uz"
   ]
  },
  {
   "cell_type": "code",
   "execution_count": 56,
   "metadata": {},
   "outputs": [
    {
     "data": {
      "text/plain": [
       "(a^3 + a^2 + 1)*z^3 + (a^3 + a)*z^2 + a^3*z + a^3 + a + 1"
      ]
     },
     "execution_count": 56,
     "metadata": {},
     "output_type": "execute_result"
    }
   ],
   "source": [
    "vz"
   ]
  },
  {
   "cell_type": "code",
   "execution_count": 57,
   "metadata": {},
   "outputs": [],
   "source": [
    "assert gcdz == uz * az + vz * Synpoly"
   ]
  },
  {
   "cell_type": "code",
   "execution_count": 70,
   "metadata": {},
   "outputs": [
    {
     "data": {
      "text/plain": [
       "(a^2 + a + 1)*z^2"
      ]
     },
     "execution_count": 70,
     "metadata": {},
     "output_type": "execute_result"
    }
   ],
   "source": [
    "#scale the values to match the slides\n",
    "\n",
    "sli_gcdz = gcdz\n",
    "sli_gcdz"
   ]
  },
  {
   "cell_type": "code",
   "execution_count": 71,
   "metadata": {},
   "outputs": [
    {
     "data": {
      "text/plain": [
       "(a^3 + a^2 + a)*z^2 + (a^3 + a)*z + a^2 + a"
      ]
     },
     "execution_count": 71,
     "metadata": {},
     "output_type": "execute_result"
    }
   ],
   "source": [
    "sli_uz = uz\n",
    "sli_uz"
   ]
  },
  {
   "cell_type": "code",
   "execution_count": 72,
   "metadata": {},
   "outputs": [
    {
     "data": {
      "text/plain": [
       "(a^3 + a^2 + 1)*z^3 + (a^3 + a)*z^2 + a^3*z + a^3 + a + 1"
      ]
     },
     "execution_count": 72,
     "metadata": {},
     "output_type": "execute_result"
    }
   ],
   "source": [
    "sli_vz = vz\n",
    "sli_vz"
   ]
  },
  {
   "cell_type": "code",
   "execution_count": 73,
   "metadata": {},
   "outputs": [
    {
     "data": {
      "text/plain": [
       "[7, 8, 9]"
      ]
     },
     "execution_count": 73,
     "metadata": {},
     "output_type": "execute_result"
    }
   ],
   "source": [
    "invroot_indices = []\n",
    "for i in range(1,16):\n",
    "    if sli_vz(a^i) == 0:\n",
    "        invroot_indices.append(i)\n",
    "invroot_indices"
   ]
  },
  {
   "cell_type": "code",
   "execution_count": 74,
   "metadata": {},
   "outputs": [
    {
     "data": {
      "text/plain": [
       "{7: 8, 8: 7, 9: 6}"
      ]
     },
     "execution_count": 74,
     "metadata": {},
     "output_type": "execute_result"
    }
   ],
   "source": [
    "# these are the error positions\n",
    "root_indices = {}\n",
    "for i in invroot_indices:\n",
    "    root_indices[i] = len(list(S)) -1 -i\n",
    "root_indices"
   ]
  },
  {
   "cell_type": "code",
   "execution_count": 75,
   "metadata": {},
   "outputs": [
    {
     "data": {
      "text/plain": [
       "(a^3 + a^2 + 1)*z^2 + a^3"
      ]
     },
     "execution_count": 75,
     "metadata": {},
     "output_type": "execute_result"
    }
   ],
   "source": [
    "#get coefficients of the error position\n",
    "sli_vzdif = sli_vz.diff()\n",
    "sli_vzdif"
   ]
  },
  {
   "cell_type": "code",
   "execution_count": 76,
   "metadata": {},
   "outputs": [
    {
     "data": {
      "text/plain": [
       "{8: a^3 + a + 1, 7: a^3, 6: a^3 + a^2 + a}"
      ]
     },
     "execution_count": 76,
     "metadata": {},
     "output_type": "execute_result"
    }
   ],
   "source": [
    "error_coeff = {}\n",
    "for i in invroot_indices:\n",
    "       error_coeff[root_indices[i]] = (sli_gcdz(a^i) / sli_vzdif(a^i))\n",
    "error_coeff"
   ]
  },
  {
   "cell_type": "code",
   "execution_count": 113,
   "metadata": {},
   "outputs": [
    {
     "name": "stdout",
     "output_type": "stream",
     "text": [
      "[0, 0, 0, 0, 0, 0, a^3 + a^2 + a, a^3, a^3 + a + 1, 0, 0, 0, 0, 0, 0, 0]\n",
      "(a^3 + a + 1)*x^8 + a^3*x^7 + (a^3 + a^2 + a)*x^6\n",
      "(a^3 + a + 1)*x^8 + a^3*x^7 + (a^3 + a^2 + a)*x^6\n"
     ]
    }
   ],
   "source": [
    "# error_poly = 0\n",
    "# for i in error_coeff:\n",
    "#     error_poly = error_poly + error_coeff[i] * x^i\n",
    "li = [0 for i in range(0,16)]\n",
    "for i in error_coeff:\n",
    "    li[i] = error_coeff[i]\n",
    "print(li)\n",
    "error_poly = R(list(li))\n",
    "print(error_poly)"
   ]
  },
  {
   "cell_type": "code",
   "execution_count": 78,
   "metadata": {},
   "outputs": [
    {
     "data": {
      "text/plain": [
       "(a^3 + a^2 + a)*x^14 + (a + 1)*x^13 + a^3*x^12 + (a^3 + a^2 + a)*x^11 + (a + 1)*x^10 + a^3*x^9 + (a^3 + a^2 + a)*x^8 + (a + 1)*x^7 + a^3*x^6 + (a^3 + 1)*x^5 + (a^3 + 1)*x^4 + (a^3 + a^2 + a)*x^3 + (a + 1)*x^2 + (a^3 + a^2 + 1)*x + a^2 + a"
      ]
     },
     "execution_count": 78,
     "metadata": {},
     "output_type": "execute_result"
    }
   ],
   "source": [
    "c"
   ]
  },
  {
   "cell_type": "code",
   "execution_count": 79,
   "metadata": {},
   "outputs": [
    {
     "data": {
      "text/plain": [
       "(a^3 + a^2 + a)*x^14 + (a + 1)*x^13 + a^3*x^12 + (a^3 + a^2 + a)*x^11 + (a + 1)*x^10 + a^3*x^9 + (a^2 + 1)*x^8 + (a^3 + a + 1)*x^7 + (a^2 + a)*x^6 + (a^3 + 1)*x^5 + (a^3 + 1)*x^4 + (a^3 + a^2 + a)*x^3 + (a + 1)*x^2 + (a^3 + a^2 + 1)*x + a^2 + a"
      ]
     },
     "execution_count": 79,
     "metadata": {},
     "output_type": "execute_result"
    }
   ],
   "source": [
    "r"
   ]
  },
  {
   "cell_type": "code",
   "execution_count": 80,
   "metadata": {},
   "outputs": [
    {
     "data": {
      "text/plain": [
       "(a^3 + a^2 + a)*x^14 + (a + 1)*x^13 + a^3*x^12 + (a^3 + a^2 + a)*x^11 + (a + 1)*x^10 + a^3*x^9 + (a^2 + 1)*x^8 + (a^3 + a + 1)*x^7 + (a^2 + a)*x^6 + (a^3 + 1)*x^5 + (a^3 + 1)*x^4 + (a^3 + a^2 + a)*x^3 + (a + 1)*x^2 + (a^3 + a^2 + 1)*x + a^2 + a"
      ]
     },
     "execution_count": 80,
     "metadata": {},
     "output_type": "execute_result"
    }
   ],
   "source": [
    "c + error_poly"
   ]
  },
  {
   "cell_type": "code",
   "execution_count": 114,
   "metadata": {},
   "outputs": [],
   "source": [
    "assert c + error_poly == r"
   ]
  },
  {
   "cell_type": "code",
   "execution_count": 118,
   "metadata": {},
   "outputs": [
    {
     "data": {
      "text/plain": [
       "(a^3 + a^2 + a)*x^8 + a^3*x^7 + (a^2 + a + 1)*x^6 + (a^2 + 1)*x^5 + x^4 + a^3*x^3 + a^2*x^2 + a^2*x + a^3 + a^2 + a + 1"
      ]
     },
     "execution_count": 118,
     "metadata": {},
     "output_type": "execute_result"
    }
   ],
   "source": [
    "r // g"
   ]
  },
  {
   "cell_type": "code",
   "execution_count": null,
   "metadata": {},
   "outputs": [],
   "source": []
  }
 ],
 "metadata": {
  "kernelspec": {
   "display_name": "SageMath 10.1",
   "language": "sage",
   "name": "sagemath"
  },
  "language_info": {
   "codemirror_mode": {
    "name": "ipython",
    "version": 3
   },
   "file_extension": ".py",
   "mimetype": "text/x-python",
   "name": "python",
   "nbconvert_exporter": "python",
   "pygments_lexer": "ipython3",
   "version": "3.11.6"
  }
 },
 "nbformat": 4,
 "nbformat_minor": 4
}
